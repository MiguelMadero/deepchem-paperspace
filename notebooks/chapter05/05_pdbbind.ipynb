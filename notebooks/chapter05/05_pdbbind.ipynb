{
 "cells": [
  {
   "cell_type": "markdown",
   "source": [
    "# PDB Bind "
   ],
   "metadata": {}
  },
  {
   "cell_type": "code",
   "execution_count": 1,
   "source": [
    "import deepchem as dc\n",
    "from sklearn.ensemble import RandomForestRegressor"
   ],
   "outputs": [],
   "metadata": {}
  },
  {
   "cell_type": "code",
   "execution_count": 2,
   "source": [
    "# Use a neural network to predict the PDBBind dataset.  \n",
    "# First load the data.\n",
    "featurizer = dc.feat.RdkitGridFeaturizer(voxel_width=2.0, sanitize=True, flatten=True,\n",
    "    feature_types=['hbond', 'salt_bridge', 'pi_stack', 'cation_pi', 'ecfp', 'splif'])\n",
    "pdbbind_tasks, pdbbind_datasets, transformers = dc.molnet.load_pdbbind(featurizer=featurizer, splitter=\"random\", subset=\"core\")\n",
    "train_dataset, valid_dataset, test_dataset = pdbbind_datasets"
   ],
   "outputs": [],
   "metadata": {}
  },
  {
   "cell_type": "code",
   "execution_count": 28,
   "source": [
    "# Create a function to evaluate your models\n",
    "def evaluate(model):\n",
    "    metric = dc.metrics.Metric(dc.metrics.pearson_r2_score)\n",
    "    train_scores = model.evaluate(train_dataset, [metric], transformers)\n",
    "    valid_scores = model.evaluate(valid_dataset, [metric], transformers)\n",
    "    test_scores = model.evaluate(test_dataset, [metric], transformers)\n",
    "    print(\"Train scores\")\n",
    "    print(train_scores)\n",
    "    print(\"Valid scores\")\n",
    "    print(valid_scores)\n",
    "    print(\"Test scores\")\n",
    "    print(test_scores)"
   ],
   "outputs": [],
   "metadata": {}
  },
  {
   "cell_type": "code",
   "execution_count": 4,
   "source": [
    "# Define and fit a RandomForest model\n",
    "sklearn_model = RandomForestRegressor(n_estimators=100)\n",
    "rf_model = dc.models.SklearnModel(\n",
    "    sklearn_model, model_dir=\"pdbbind_rf_model\")\n",
    "rf_model.fit(train_dataset)"
   ],
   "outputs": [],
   "metadata": {}
  },
  {
   "cell_type": "code",
   "execution_count": 5,
   "source": [
    "# Define and fit a NN model\n",
    "n_features = train_dataset.X.shape[1]\n",
    "nn_model = dc.models.MultitaskRegressor(\n",
    "    n_tasks=len(pdbbind_tasks),\n",
    "    n_features=n_features,\n",
    "    layer_sizes=[2000, 1000],\n",
    "    dropouts=0.5,\n",
    "    model_dir=\"pdbbind_nn_model\",\n",
    "    learning_rate=0.0003)\n",
    "nn_model.fit(train_dataset, nb_epoch=250)"
   ],
   "outputs": [
    {
     "output_type": "execute_result",
     "data": {
      "text/plain": [
       "0.7979217529296875"
      ]
     },
     "metadata": {},
     "execution_count": 5
    }
   ],
   "metadata": {}
  },
  {
   "cell_type": "code",
   "execution_count": 30,
   "source": [
    "# evaluate the models\n",
    "evaluate(rf_model)\n",
    "evaluate(nn_model)"
   ],
   "outputs": [
    {
     "output_type": "stream",
     "name": "stdout",
     "text": [
      "Train scores\n",
      "{'pearson_r2_score': nan}\n",
      "Valid scores\n",
      "{'pearson_r2_score': nan}\n",
      "Test scores\n",
      "{'pearson_r2_score': nan}\n",
      "Train scores\n",
      "{'pearson_r2_score': nan}\n",
      "Valid scores\n",
      "{'pearson_r2_score': nan}\n",
      "Test scores\n",
      "{'pearson_r2_score': nan}\n"
     ]
    },
    {
     "output_type": "stream",
     "name": "stderr",
     "text": [
      "/miniconda/envs/deepchem/lib/python3.6/site-packages/scipy/stats/stats.py:3845: PearsonRConstantInputWarning: An input array is constant; the correlation coefficent is not defined.\n",
      "  warnings.warn(PearsonRConstantInputWarning())\n",
      "/miniconda/envs/deepchem/lib/python3.6/site-packages/scipy/stats/stats.py:3845: PearsonRConstantInputWarning: An input array is constant; the correlation coefficent is not defined.\n",
      "  warnings.warn(PearsonRConstantInputWarning())\n",
      "/miniconda/envs/deepchem/lib/python3.6/site-packages/scipy/stats/stats.py:3845: PearsonRConstantInputWarning: An input array is constant; the correlation coefficent is not defined.\n",
      "  warnings.warn(PearsonRConstantInputWarning())\n"
     ]
    }
   ],
   "metadata": {}
  },
  {
   "cell_type": "code",
   "execution_count": 25,
   "source": [],
   "outputs": [
    {
     "output_type": "execute_result",
     "data": {
      "text/plain": [
       "<DiskDataset X.shape: (154, 1), y.shape: (154,), w.shape: (154,), ids: ['1f8b' '3f80' '3ag9' ... '4g8m' '3muz' '1q8u'], task_names: [0]>"
      ]
     },
     "metadata": {},
     "execution_count": 25
    }
   ],
   "metadata": {}
  }
 ],
 "metadata": {
  "kernelspec": {
   "display_name": "Python 3",
   "language": "python",
   "name": "python3"
  },
  "language_info": {
   "codemirror_mode": {
    "name": "ipython",
    "version": 3
   },
   "file_extension": ".py",
   "mimetype": "text/x-python",
   "name": "python",
   "nbconvert_exporter": "python",
   "pygments_lexer": "ipython3",
   "version": "3.6.13"
  }
 },
 "nbformat": 4,
 "nbformat_minor": 5
}