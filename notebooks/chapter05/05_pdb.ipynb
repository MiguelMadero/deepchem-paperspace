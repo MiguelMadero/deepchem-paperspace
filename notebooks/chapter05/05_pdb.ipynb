{
 "cells": [
  {
   "cell_type": "code",
   "execution_count": 1,
   "source": [
    "# example of a protein drawing\n",
    "!pip install nglview"
   ],
   "outputs": [
    {
     "output_type": "stream",
     "name": "stdout",
     "text": [
      "Requirement already satisfied: nglview in /miniconda/envs/deepchem/lib/python3.6/site-packages (3.0.3)\n",
      "Requirement already satisfied: jupyterlab-widgets in /miniconda/envs/deepchem/lib/python3.6/site-packages (from nglview) (1.0.0)\n",
      "Requirement already satisfied: numpy in /miniconda/envs/deepchem/lib/python3.6/site-packages (from nglview) (1.19.5)\n",
      "Requirement already satisfied: ipywidgets>=7 in /miniconda/envs/deepchem/lib/python3.6/site-packages (from nglview) (7.6.3)\n",
      "Requirement already satisfied: traitlets>=4.3.1 in /miniconda/envs/deepchem/lib/python3.6/site-packages (from ipywidgets>=7->nglview) (4.3.3)\n",
      "Requirement already satisfied: widgetsnbextension~=3.5.0 in /miniconda/envs/deepchem/lib/python3.6/site-packages (from ipywidgets>=7->nglview) (3.5.1)\n",
      "Requirement already satisfied: nbformat>=4.2.0 in /miniconda/envs/deepchem/lib/python3.6/site-packages (from ipywidgets>=7->nglview) (5.1.3)\n",
      "Requirement already satisfied: ipykernel>=4.5.1 in /miniconda/envs/deepchem/lib/python3.6/site-packages (from ipywidgets>=7->nglview) (5.5.5)\n",
      "Requirement already satisfied: ipython>=4.0.0 in /miniconda/envs/deepchem/lib/python3.6/site-packages (from ipywidgets>=7->nglview) (5.8.0)\n",
      "Requirement already satisfied: jupyter-client in /miniconda/envs/deepchem/lib/python3.6/site-packages (from ipykernel>=4.5.1->ipywidgets>=7->nglview) (6.1.12)\n",
      "Requirement already satisfied: tornado>=4.2 in /miniconda/envs/deepchem/lib/python3.6/site-packages (from ipykernel>=4.5.1->ipywidgets>=7->nglview) (6.1)\n",
      "Requirement already satisfied: prompt-toolkit<2.0.0,>=1.0.4 in /miniconda/envs/deepchem/lib/python3.6/site-packages (from ipython>=4.0.0->ipywidgets>=7->nglview) (1.0.15)\n",
      "Requirement already satisfied: decorator in /miniconda/envs/deepchem/lib/python3.6/site-packages (from ipython>=4.0.0->ipywidgets>=7->nglview) (5.0.9)\n",
      "Requirement already satisfied: simplegeneric>0.8 in /miniconda/envs/deepchem/lib/python3.6/site-packages (from ipython>=4.0.0->ipywidgets>=7->nglview) (0.8.1)\n",
      "Requirement already satisfied: setuptools>=18.5 in /miniconda/envs/deepchem/lib/python3.6/site-packages (from ipython>=4.0.0->ipywidgets>=7->nglview) (52.0.0.post20210125)\n",
      "Requirement already satisfied: pygments in /miniconda/envs/deepchem/lib/python3.6/site-packages (from ipython>=4.0.0->ipywidgets>=7->nglview) (2.9.0)\n",
      "Requirement already satisfied: pexpect in /miniconda/envs/deepchem/lib/python3.6/site-packages (from ipython>=4.0.0->ipywidgets>=7->nglview) (4.8.0)\n",
      "Requirement already satisfied: pickleshare in /miniconda/envs/deepchem/lib/python3.6/site-packages (from ipython>=4.0.0->ipywidgets>=7->nglview) (0.7.5)\n",
      "Requirement already satisfied: jsonschema!=2.5.0,>=2.4 in /miniconda/envs/deepchem/lib/python3.6/site-packages (from nbformat>=4.2.0->ipywidgets>=7->nglview) (3.2.0)\n",
      "Requirement already satisfied: jupyter-core in /miniconda/envs/deepchem/lib/python3.6/site-packages (from nbformat>=4.2.0->ipywidgets>=7->nglview) (4.7.1)\n",
      "Requirement already satisfied: ipython-genutils in /miniconda/envs/deepchem/lib/python3.6/site-packages (from nbformat>=4.2.0->ipywidgets>=7->nglview) (0.2.0)\n",
      "Requirement already satisfied: importlib-metadata in /miniconda/envs/deepchem/lib/python3.6/site-packages (from jsonschema!=2.5.0,>=2.4->nbformat>=4.2.0->ipywidgets>=7->nglview) (3.7.3)\n",
      "Requirement already satisfied: pyrsistent>=0.14.0 in /miniconda/envs/deepchem/lib/python3.6/site-packages (from jsonschema!=2.5.0,>=2.4->nbformat>=4.2.0->ipywidgets>=7->nglview) (0.17.3)\n",
      "Requirement already satisfied: six>=1.11.0 in /miniconda/envs/deepchem/lib/python3.6/site-packages (from jsonschema!=2.5.0,>=2.4->nbformat>=4.2.0->ipywidgets>=7->nglview) (1.15.0)\n",
      "Requirement already satisfied: attrs>=17.4.0 in /miniconda/envs/deepchem/lib/python3.6/site-packages (from jsonschema!=2.5.0,>=2.4->nbformat>=4.2.0->ipywidgets>=7->nglview) (21.2.0)\n",
      "Requirement already satisfied: wcwidth in /miniconda/envs/deepchem/lib/python3.6/site-packages (from prompt-toolkit<2.0.0,>=1.0.4->ipython>=4.0.0->ipywidgets>=7->nglview) (0.2.5)\n",
      "Requirement already satisfied: notebook>=4.4.1 in /miniconda/envs/deepchem/lib/python3.6/site-packages (from widgetsnbextension~=3.5.0->ipywidgets>=7->nglview) (6.3.0)\n",
      "Requirement already satisfied: terminado>=0.8.3 in /miniconda/envs/deepchem/lib/python3.6/site-packages (from notebook>=4.4.1->widgetsnbextension~=3.5.0->ipywidgets>=7->nglview) (0.10.1)\n",
      "Requirement already satisfied: jinja2 in /miniconda/envs/deepchem/lib/python3.6/site-packages (from notebook>=4.4.1->widgetsnbextension~=3.5.0->ipywidgets>=7->nglview) (3.0.1)\n",
      "Requirement already satisfied: nbconvert in /miniconda/envs/deepchem/lib/python3.6/site-packages (from notebook>=4.4.1->widgetsnbextension~=3.5.0->ipywidgets>=7->nglview) (5.6.1)\n",
      "Requirement already satisfied: prometheus-client in /miniconda/envs/deepchem/lib/python3.6/site-packages (from notebook>=4.4.1->widgetsnbextension~=3.5.0->ipywidgets>=7->nglview) (0.11.0)\n",
      "Requirement already satisfied: pyzmq>=17 in /miniconda/envs/deepchem/lib/python3.6/site-packages (from notebook>=4.4.1->widgetsnbextension~=3.5.0->ipywidgets>=7->nglview) (22.1.0)\n",
      "Requirement already satisfied: argon2-cffi in /miniconda/envs/deepchem/lib/python3.6/site-packages (from notebook>=4.4.1->widgetsnbextension~=3.5.0->ipywidgets>=7->nglview) (20.1.0)\n",
      "Requirement already satisfied: Send2Trash>=1.5.0 in /miniconda/envs/deepchem/lib/python3.6/site-packages (from notebook>=4.4.1->widgetsnbextension~=3.5.0->ipywidgets>=7->nglview) (1.7.1)\n",
      "Requirement already satisfied: python-dateutil>=2.1 in /miniconda/envs/deepchem/lib/python3.6/site-packages (from jupyter-client->ipykernel>=4.5.1->ipywidgets>=7->nglview) (2.8.1)\n",
      "Requirement already satisfied: ptyprocess in /miniconda/envs/deepchem/lib/python3.6/site-packages (from terminado>=0.8.3->notebook>=4.4.1->widgetsnbextension~=3.5.0->ipywidgets>=7->nglview) (0.7.0)\n",
      "Requirement already satisfied: cffi>=1.0.0 in /miniconda/envs/deepchem/lib/python3.6/site-packages (from argon2-cffi->notebook>=4.4.1->widgetsnbextension~=3.5.0->ipywidgets>=7->nglview) (1.14.6)\n",
      "Requirement already satisfied: pycparser in /miniconda/envs/deepchem/lib/python3.6/site-packages (from cffi>=1.0.0->argon2-cffi->notebook>=4.4.1->widgetsnbextension~=3.5.0->ipywidgets>=7->nglview) (2.20)\n",
      "Requirement already satisfied: zipp>=0.5 in /miniconda/envs/deepchem/lib/python3.6/site-packages (from importlib-metadata->jsonschema!=2.5.0,>=2.4->nbformat>=4.2.0->ipywidgets>=7->nglview) (3.4.1)\n",
      "Requirement already satisfied: typing-extensions>=3.6.4 in /miniconda/envs/deepchem/lib/python3.6/site-packages (from importlib-metadata->jsonschema!=2.5.0,>=2.4->nbformat>=4.2.0->ipywidgets>=7->nglview) (3.7.4.3)\n",
      "Requirement already satisfied: MarkupSafe>=2.0 in /miniconda/envs/deepchem/lib/python3.6/site-packages (from jinja2->notebook>=4.4.1->widgetsnbextension~=3.5.0->ipywidgets>=7->nglview) (2.0.1)\n",
      "Requirement already satisfied: pandocfilters>=1.4.1 in /miniconda/envs/deepchem/lib/python3.6/site-packages (from nbconvert->notebook>=4.4.1->widgetsnbextension~=3.5.0->ipywidgets>=7->nglview) (1.4.2)\n",
      "Requirement already satisfied: entrypoints>=0.2.2 in /miniconda/envs/deepchem/lib/python3.6/site-packages (from nbconvert->notebook>=4.4.1->widgetsnbextension~=3.5.0->ipywidgets>=7->nglview) (0.3)\n",
      "Requirement already satisfied: defusedxml in /miniconda/envs/deepchem/lib/python3.6/site-packages (from nbconvert->notebook>=4.4.1->widgetsnbextension~=3.5.0->ipywidgets>=7->nglview) (0.7.1)\n",
      "Requirement already satisfied: testpath in /miniconda/envs/deepchem/lib/python3.6/site-packages (from nbconvert->notebook>=4.4.1->widgetsnbextension~=3.5.0->ipywidgets>=7->nglview) (0.5.0)\n",
      "Requirement already satisfied: mistune<2,>=0.8.1 in /miniconda/envs/deepchem/lib/python3.6/site-packages (from nbconvert->notebook>=4.4.1->widgetsnbextension~=3.5.0->ipywidgets>=7->nglview) (0.8.4)\n",
      "Requirement already satisfied: bleach in /miniconda/envs/deepchem/lib/python3.6/site-packages (from nbconvert->notebook>=4.4.1->widgetsnbextension~=3.5.0->ipywidgets>=7->nglview) (3.3.1)\n",
      "Requirement already satisfied: webencodings in /miniconda/envs/deepchem/lib/python3.6/site-packages (from bleach->nbconvert->notebook>=4.4.1->widgetsnbextension~=3.5.0->ipywidgets>=7->nglview) (0.5.1)\n",
      "Requirement already satisfied: packaging in /miniconda/envs/deepchem/lib/python3.6/site-packages (from bleach->nbconvert->notebook>=4.4.1->widgetsnbextension~=3.5.0->ipywidgets>=7->nglview) (21.0)\n",
      "Requirement already satisfied: pyparsing>=2.0.2 in /miniconda/envs/deepchem/lib/python3.6/site-packages (from packaging->bleach->nbconvert->notebook>=4.4.1->widgetsnbextension~=3.5.0->ipywidgets>=7->nglview) (2.4.7)\r\n"
     ]
    }
   ],
   "metadata": {}
  },
  {
   "cell_type": "code",
   "execution_count": 2,
   "source": [
    "!jupyter-nbextension enable nglview --py --sys-prefix"
   ],
   "outputs": [
    {
     "output_type": "stream",
     "name": "stdout",
     "text": [
      "Enabling notebook extension nglview-js-widgets/extension...\r\n",
      "      - Validating: \u001b[32mOK\u001b[0m\r\n"
     ]
    }
   ],
   "metadata": {}
  },
  {
   "cell_type": "code",
   "execution_count": 9,
   "source": [
    "# NOTE: you may need to restart your kernel to enable the Jupyter extension\n",
    "\n",
    "import nglview as nv\n",
    "view = nv.show_pdbid(\"2D3U\") # load \"2D3U\" from RCSB PDB and display viewer widget\n",
    "# view = nv.show_file(path=\"05_2D3U\", ext=\"pdb\")\n",
    "view.representations = [\n",
    "    {\"type\": \"cartoon\", \"params\": {\n",
    "        \"sele\": \"protein\", \"color\": \"residueindex\"\n",
    "    }},\n",
    "    {\"type\": \"ball+stick\", \"params\": {\n",
    "        \"sele\": \"ligand\"\n",
    "    }}\n",
    "]\n",
    "\n",
    "view"
   ],
   "outputs": [
    {
     "output_type": "display_data",
     "data": {
      "text/plain": [
       "NGLWidget()"
      ],
      "application/vnd.jupyter.widget-view+json": {
       "model_id": "4d756e2c5aef43a99df216fe6f3853ec",
       "version_major": 2,
       "version_minor": 0
      }
     },
     "metadata": {}
    }
   ],
   "metadata": {}
  }
 ],
 "metadata": {
  "kernelspec": {
   "display_name": "Python 3",
   "language": "python",
   "name": "python3"
  },
  "language_info": {
   "codemirror_mode": {
    "name": "ipython",
    "version": 3
   },
   "file_extension": ".py",
   "mimetype": "text/x-python",
   "name": "python",
   "nbconvert_exporter": "python",
   "pygments_lexer": "ipython3",
   "version": "3.6.13"
  }
 },
 "nbformat": 4,
 "nbformat_minor": 5
}