{
 "cells": [
  {
   "cell_type": "code",
   "execution_count": null,
   "source": [
    "# Train a neural network to predict the solubility of molecules.  First load the data.\n",
    "\n",
    "import deepchem as dc\n",
    "tasks, datasets, transformers = dc.molnet.load_delaney(featurizer='GraphConv')\n",
    "train_dataset, valid_dataset, test_dataset = datasets\n"
   ],
   "outputs": [],
   "metadata": {}
  },
  {
   "cell_type": "code",
   "execution_count": null,
   "source": [
    "\n",
    "# Create and train the model.\n",
    "\n",
    "model = dc.models.GraphConvModel(n_tasks=1, mode='regression', dropout=0.2)\n",
    "model.fit(train_dataset, nb_epoch=100)\n"
   ],
   "outputs": [],
   "metadata": {}
  },
  {
   "cell_type": "code",
   "execution_count": null,
   "source": [
    "\n",
    "# Evaluate it.\n",
    "\n",
    "metric = dc.metrics.Metric(dc.metrics.pearson_r2_score)\n",
    "print(\"Training set score\")\n",
    "print(model.evaluate(train_dataset, [metric], transformers))\n",
    "print(\"Test set score\")\n",
    "print(model.evaluate(test_dataset, [metric], transformers))\n",
    "\n",
    "# Use it to predict the solubility of some molecules.\n",
    "\n",
    "smiles = ['COC(C)(C)CCCC(C)CC=CC(C)=CC(=O)OC(C)C',\n",
    "          'CCOC(=O)CC',\n",
    "          'CSc1nc(NC(C)C)nc(NC(C)C)n1',\n",
    "          'CC(C#C)N(C)C(=O)Nc1ccc(Cl)cc1',\n",
    "          'Cc1cc2ccccc2cc1C']\n",
    "from rdkit import Chem\n",
    "mols = [Chem.MolFromSmiles(s) for s in smiles]\n",
    "featurizer = dc.feat.ConvMolFeaturizer()\n",
    "x = featurizer.featurize(mols)\n",
    "predicted_solubility = model.predict_on_batch(x)\n",
    "for m,s in zip(smiles, predicted_solubility):\n",
    "    print()\n",
    "    print('Molecule:', m)\n",
    "    print('Predicted solubility:', s)"
   ],
   "outputs": [],
   "metadata": {}
  }
 ],
 "metadata": {
  "orig_nbformat": 4,
  "language_info": {
   "name": "python"
  }
 },
 "nbformat": 4,
 "nbformat_minor": 2
}