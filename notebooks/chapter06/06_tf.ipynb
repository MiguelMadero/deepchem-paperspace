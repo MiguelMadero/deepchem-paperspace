{
 "cells": [
  {
   "cell_type": "code",
   "execution_count": 2,
   "source": [
    "import deepchem as dc\n",
    "import tensorflow as tf\n",
    "import tensorflow.keras.layers as layers"
   ],
   "outputs": [],
   "metadata": {}
  },
  {
   "cell_type": "code",
   "execution_count": 3,
   "source": [
    "# Prepare data\n",
    "train = dc.data.DiskDataset('tf_datasets/train')\n",
    "valid = dc.data.DiskDataset('tf_datsets/valid')"
   ],
   "outputs": [],
   "metadata": {}
  },
  {
   "cell_type": "code",
   "execution_count": 4,
   "source": [
    "# Build the architecture\n",
    "\n",
    "features = tf.keras.Input(shape=(101, 4))\n",
    "\n",
    "prev = features\n",
    "for i in range(3):\n",
    "    convLayer = layers.Conv1D(\n",
    "        filters=15,\n",
    "        kernel_size=10,\n",
    "        activation=tf.nn.relu,\n",
    "        padding='same')\n",
    "    prev = convLayer(prev)\n",
    "    dropoutLayer = layers.Dropout(rate=0.5)\n",
    "    prev = dropoutLayer(prev)\n",
    "\n",
    "logitsLayer = layers.Dense(units=1)\n",
    "logits = logitsLayer(layers.Flatten()(prev))\n",
    "# sets to 0/1 as opposed to a range of probability\n",
    "output = layers.Activation(tf.math.sigmoid)(logits)\n",
    "\n",
    "keras_model = tf.keras.Model(inputs=features, outputs=[output, logits])\n",
    "model = dc.models.KerasModel(\n",
    "    keras_model,\n",
    "    loss=dc.models.losses.SigmoidCrossEntropy(),\n",
    "    output_types=['prediction', 'loss'],\n",
    "    batch_size=1000,\n",
    "    model_dir='tf_model'  # TODO: what's this? Is this to store the generated model?\n",
    ")"
   ],
   "outputs": [],
   "metadata": {}
  },
  {
   "cell_type": "code",
   "execution_count": null,
   "source": [
    "# Train our model\n",
    "metric = dc.metrics.Metric(dc.metrics.roc_auc_score)\n",
    "for i in range(20):\n",
    "    model.fit(train, nb_epoch=10)\n",
    "    print(model.evaluate(train, [metric]))\n",
    "    print(model.evaluate(valid, [metric]))"
   ],
   "outputs": [],
   "metadata": {}
  }
 ],
 "metadata": {
  "kernelspec": {
   "display_name": "Python 3",
   "language": "python",
   "name": "python3"
  },
  "language_info": {
   "codemirror_mode": {
    "name": "ipython",
    "version": 3
   },
   "file_extension": ".py",
   "mimetype": "text/x-python",
   "name": "python",
   "nbconvert_exporter": "python",
   "pygments_lexer": "ipython3",
   "version": "3.6.13"
  }
 },
 "nbformat": 4,
 "nbformat_minor": 5
}